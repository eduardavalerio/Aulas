{
 "cells": [
  {
   "cell_type": "markdown",
   "metadata": {},
   "source": [
    "# Aula 5 - comandos de seleção e processamento de dígitos de um inteiro \n",
    "- Exercícios com comando de seleção \n",
    "- Uso de operadores aritméticos `//` e `%`: *descascando inteiros*."
   ]
  },
  {
   "cell_type": "markdown",
   "metadata": {},
   "source": [
    "### Uso do `if-else`\n",
    "**if** x > y:\\\n",
    "y = y + 2\\\n",
    "**else**:\\\n",
    "x = x + 1\n",
    "\n",
    "Nesse programa só apresenta uma condição verdadeira, portanto, se ela for atendida, o else não é executado."
   ]
  },
  {
   "cell_type": "markdown",
   "metadata": {},
   "source": [
    "### Uso de dois `if`s\n",
    "**if** x > y:\\\n",
    "y = y + 2\\\n",
    "**if** y > x:\\\n",
    "x = x + 1\n",
    "\n",
    "Nesse programa, as duas condições são verdadeiras, dessa forma, as duas serão executadas, uma após a outra."
   ]
  },
  {
   "cell_type": "code",
   "execution_count": 3,
   "metadata": {},
   "outputs": [
    {
     "name": "stdout",
     "output_type": "stream",
     "text": [
      "6 7\n"
     ]
    }
   ],
   "source": [
    "x = 6\n",
    "y = 5\n",
    "if x > y:\n",
    "    y = y + 2\n",
    "else: \n",
    "    x = x + 1\n",
    "print(x,y)"
   ]
  },
  {
   "cell_type": "code",
   "execution_count": 6,
   "metadata": {},
   "outputs": [
    {
     "name": "stdout",
     "output_type": "stream",
     "text": [
      "7 7\n"
     ]
    }
   ],
   "source": [
    "x = 6\n",
    "y = 5\n",
    "if x > y:\n",
    "    y = y + 2\n",
    "if y > x:\n",
    "    x = x + 1\n",
    "print(x, y)"
   ]
  },
  {
   "cell_type": "markdown",
   "metadata": {},
   "source": [
    "### Operadores aritméticos `//` e `%`\n",
    "a = n // m\\\n",
    "Divisão inteira, no resultado não é considerado os decimais. \n",
    "\n",
    "r = n % m\\\n",
    "Resto da divisão inteira.\n",
    "\n",
    "n == a * m + r\n",
    "\n",
    "***"
   ]
  },
  {
   "cell_type": "markdown",
   "metadata": {},
   "source": [
    "### PROBLEMA 1\n",
    "Dados um número inteiro n, n > 0, e um dígito d (0 <= d <= 9), determinar quantas vezes d ocorre em n.\\\n",
    "Por exemplo, 3 ocorre 2 vezes em 63453."
   ]
  },
  {
   "cell_type": "code",
   "execution_count": 12,
   "metadata": {},
   "outputs": [
    {
     "name": "stdout",
     "output_type": "stream",
     "text": [
      "O dígito 1 ocorre 3 vezes em 1921317\n"
     ]
    }
   ],
   "source": [
    "n = int(input(\"Digite um valor de n sendo ele maior que 0:\"))\n",
    "d = int(input(\"Digite um valor de d entre 0 e 9:\"))\n",
    "aux = n\n",
    "contd = 0\n",
    "while n != 0:\n",
    "    resto = n % 10\n",
    "    n = n // 10\n",
    "    if resto == d:\n",
    "        contd = contd + 1\n",
    "print(\"O dígito\", d, \"ocorre\", contd, \"vezes em\", aux)"
   ]
  },
  {
   "cell_type": "markdown",
   "metadata": {},
   "source": [
    "### PROBLEMA 2\n",
    "Dado um número inteiro n, n > 0, imprimir o número com os dígitos invertidos.\\\n",
    "Por exemplo, para n = 63452, o programa deve imprimir 25436."
   ]
  },
  {
   "cell_type": "code",
   "execution_count": 13,
   "metadata": {},
   "outputs": [
    {
     "name": "stdout",
     "output_type": "stream",
     "text": [
      "O número invertido de 31427 é 72413\n"
     ]
    }
   ],
   "source": [
    "n = int(input(\"Digite um valor de n:\"))\n",
    "inv = 0\n",
    "aux = n\n",
    "while n > 0:\n",
    "    resto = n % 10\n",
    "    n = n // 10\n",
    "    inv = inv*10 + resto\n",
    "print(\"O número invertido de\", aux, \"é\", inv)\n"
   ]
  },
  {
   "cell_type": "markdown",
   "metadata": {},
   "source": [
    "### PROBLEMA 3\n",
    "Dizemos que um número natural n é palíndromo se o primeiro algarismo de n é igual ao seu último, o segundo é igual ao penúltimo e assim sucessivamente.\\\n",
    "Por exemplo, 567765 e 32423 são palíndromos.\\\n",
    "Sendo n >= 10, verificar se é palíndromo."
   ]
  },
  {
   "cell_type": "code",
   "execution_count": 17,
   "metadata": {},
   "outputs": [
    {
     "name": "stdout",
     "output_type": "stream",
     "text": [
      "1923312 não é palíndromo\n"
     ]
    }
   ],
   "source": [
    "n = int(input(\"Digite um valor de n:\"))\n",
    "inv = 0\n",
    "aux = n \n",
    "while n > 0:\n",
    "    resto = n % 10\n",
    "    n = n // 10\n",
    "    inv = inv*10 + resto\n",
    "if inv == aux:\n",
    "    print(aux, \"é palíndromo\")\n",
    "else:\n",
    "    print(aux, \"não é palíndromo\")"
   ]
  },
  {
   "cell_type": "markdown",
   "metadata": {},
   "source": [
    "### PROBLEMA 4\n",
    "Uma loja de discos anota diariamente durante todo o mês de março a quantidade de discos vendidos. Determinar em que dia do mês ocorreu a maior venda e qual foi a quantidade de discos vendidos nesse dia."
   ]
  },
  {
   "cell_type": "code",
   "execution_count": 18,
   "metadata": {},
   "outputs": [
    {
     "name": "stdout",
     "output_type": "stream",
     "text": [
      "O melhor dia de vendas foi no dia 26 foram vendidos um total de 565 discos.\n"
     ]
    }
   ],
   "source": [
    "n = 31\n",
    "mavenda = 0\n",
    "dia = 1\n",
    "media = dia\n",
    "while dia <= n:\n",
    "    venda_dia = int(input(\"Quantidades de discos vendidos no dia %d\" %dia))\n",
    "    if venda_dia > mavenda:\n",
    "        mavenda = venda_dia\n",
    "        media = dia\n",
    "    dia = dia + 1\n",
    "print(\"O melhor dia de vendas foi no dia\", media, \"foram vendidos um total de\", mavenda, \"discos.\")"
   ]
  }
 ],
 "metadata": {
  "kernelspec": {
   "display_name": "Python 3",
   "language": "python",
   "name": "python3"
  },
  "language_info": {
   "codemirror_mode": {
    "name": "ipython",
    "version": 3
   },
   "file_extension": ".py",
   "mimetype": "text/x-python",
   "name": "python",
   "nbconvert_exporter": "python",
   "pygments_lexer": "ipython3",
   "version": "3.11.4"
  }
 },
 "nbformat": 4,
 "nbformat_minor": 2
}
