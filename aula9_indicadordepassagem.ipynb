{
 "cells": [
  {
   "cell_type": "markdown",
   "metadata": {},
   "source": [
    "# Aula 8 - Indicador de passagem\n",
    "\n",
    "- Mais sobre expressões lógicas \n",
    "- Indicador de passagem (`True` e `False`)\n"
   ]
  },
  {
   "cell_type": "markdown",
   "metadata": {},
   "source": [
    "### PROBLEMA 1\n",
    "Dados um número inteiro n, n > 0, e uma sequência com n números inteiros, verificar se a sequência é uma progressão aritmética (PA)"
   ]
  },
  {
   "cell_type": "code",
   "execution_count": 2,
   "metadata": {},
   "outputs": [
    {
     "name": "stdout",
     "output_type": "stream",
     "text": [
      "A sequência não é uma pa\n"
     ]
    }
   ],
   "source": [
    "n = int(input(\"Digite o valor de n:\"))\n",
    "n1 = int(input(\"Digite o primeiro termo da sequência:\"))\n",
    "n2 = int(input(\"Digite o segundo termo da sequência:\"))\n",
    "razao = n2 - n1\n",
    "cont = 2\n",
    "pa = True \n",
    "\n",
    "while cont < n and pa == True:\n",
    "    n1 = n2\n",
    "    n2 = int(input(\"Digite os demais termos da sequência:\"))\n",
    "    if n2 - n1 != razao:\n",
    "        pa = False\n",
    "    cont = cont + 1\n",
    "if pa == True:\n",
    "    print(\"A sequência é uma pa\")\n",
    "else:\n",
    "    print(\"A sequência não é uma pa\")"
   ]
  },
  {
   "cell_type": "markdown",
   "metadata": {},
   "source": [
    "### PROBLEMA 2\n",
    "Dado um número inteiro n > 0 e n números inteiros, verificar se a sequência está em ordem crescente."
   ]
  },
  {
   "cell_type": "code",
   "execution_count": null,
   "metadata": {},
   "outputs": [],
   "source": [
    "n = int(input(\" Entre com o n:\"))\n",
    "int_prim = int(input(\"Entre com o primeiro inteiro:\"))\n",
    "cresc = True\n",
    "cont = 0\n",
    "while cont < n and cresc == True:\n",
    "    int_seg = int(input(\"Entre com o próximo inteiro:\"))\n",
    "    if int_prim > int_seg:\n",
    "        cresc = False\n",
    "    int_prim = int_seg\n",
    "    cont = cont + 1\n",
    "if cresc == True:\n",
    "    print(\"A sequência está em ordem crescente\")\n",
    "else: \n",
    "    print(\"A sequência não está em ordem crescente\")"
   ]
  },
  {
   "cell_type": "markdown",
   "metadata": {},
   "source": [
    "### PROBLEMA 5\n",
    "Dado um número inteiro n, n > 0, verificar se n é primo. Por definição, 0 e 1 não são números primos.\n",
    "### Estratégias \n",
    "- contar os divisores distintos no intervalo [1, n], usamos uma variável cont.\n",
    "- uso de indicador de passagem [2, n-1], inicializando primo = true "
   ]
  },
  {
   "cell_type": "code",
   "execution_count": null,
   "metadata": {},
   "outputs": [],
   "source": [
    "n = int(input(\"Digite o valor de n:\"))\n",
    "primo = True\n",
    "cont = 2\n",
    "while cont < n and primo == True:\n",
    "    if n % cont == 0:\n",
    "        primo = False\n",
    "    cont = cont + 1\n",
    "if primo == True and n != 1:\n",
    "    print(n,\"é primo\")\n",
    "else:\n",
    "    print(n,\"não é primo\")"
   ]
  }
 ],
 "metadata": {
  "kernelspec": {
   "display_name": "Python 3",
   "language": "python",
   "name": "python3"
  },
  "language_info": {
   "codemirror_mode": {
    "name": "ipython",
    "version": 3
   },
   "file_extension": ".py",
   "mimetype": "text/x-python",
   "name": "python",
   "nbconvert_exporter": "python",
   "pygments_lexer": "ipython3",
   "version": "3.11.4"
  }
 },
 "nbformat": 4,
 "nbformat_minor": 2
}
