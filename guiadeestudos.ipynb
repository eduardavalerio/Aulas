{
 "cells": [
  {
   "cell_type": "markdown",
   "metadata": {},
   "source": [
    "# **Guia de Estudos - Semana 3**\n",
    "**Tópicos abordados**\n",
    "- Saída formatada \n",
    "- Execução condicional: estruturas simples e composta \n",
    "- Divisão inteira \n",
    "- Resto de divisão %"
   ]
  },
  {
   "cell_type": "markdown",
   "metadata": {},
   "source": [
    "### Saída formatada \n",
    "Exemplo 1: Para quatro variáveis a,b,c e d, tal que a = 1.3432, b = 342.02, c = 3000.8023 e d = 20900.978234, faça um programa que exibe os 4 valores com duas casas de precisão após a vírgula, e na forma de uma tabela, conforme o exemplo abaixo:\\\n",
    "  | a:     1.34 | b:   342.02 |\\\n",
    "  | c:  3000.80 | d: 20900.98 |"
   ]
  },
  {
   "cell_type": "code",
   "execution_count": 3,
   "metadata": {},
   "outputs": [
    {
     "name": "stdout",
     "output_type": "stream",
     "text": [
      "|a:     1.34|b:   342.02|\n"
     ]
    }
   ],
   "source": [
    "a = 1.3432\n",
    "b = 342.02\n",
    "print(\"|a: %8.2f|b: %8.2f|\" %(a, b)) \n",
    "# 8 é o valor do espaçamento e o 2 após o ponto é a precisão da casa decimal"
   ]
  },
  {
   "cell_type": "markdown",
   "metadata": {},
   "source": [
    "### Execução condicional \n",
    "Problema 1.\\\n",
    "Dados um número inteiro n, n > 0, e um dígito d (0<=d<=9), determinar quantas vezes d ocorre em n. Por exemplo, 3 ocorre 2 vezes em 63453."
   ]
  },
  {
   "cell_type": "code",
   "execution_count": 4,
   "metadata": {},
   "outputs": [
    {
     "name": "stdout",
     "output_type": "stream",
     "text": [
      "O dígito 7 ocorre 4 vezes em 8173893478274829010475869392\n"
     ]
    }
   ],
   "source": [
    "n = int(input(\"Digite o valor de n:\"))\n",
    "d = int (input(\"Digite o dígito:\"))\n",
    "num = n\n",
    "cont = 0\n",
    "while n != 0:\n",
    "    r = n % 10\n",
    "    n = n // 10\n",
    "    if r == d:\n",
    "        cont += 1\n",
    "print(\"O dígito %d ocorre %d vezes em %d\" %(d, cont, num))"
   ]
  },
  {
   "cell_type": "markdown",
   "metadata": {},
   "source": [
    "Problema 2.\\\n",
    "Dado um número inteiro n, n > 0, imprimir o número com os dígitos invertidos (espelhados)"
   ]
  },
  {
   "cell_type": "code",
   "execution_count": 6,
   "metadata": {},
   "outputs": [
    {
     "name": "stdout",
     "output_type": "stream",
     "text": [
      "O n 9824893928 invertido fica 8293984289\n"
     ]
    }
   ],
   "source": [
    "n = int(input(\"Digite o valor de n:\"))\n",
    "inv = 0\n",
    "num = n \n",
    "while n != 0:\n",
    "    r = n % 10\n",
    "    n = n // 10\n",
    "    inv = inv * 10 + r\n",
    "print(\"O n\", num, \"invertido fica\", inv)"
   ]
  },
  {
   "cell_type": "markdown",
   "metadata": {},
   "source": [
    "Problema 3.\\\n",
    "Dizemos que um número inteiro positivo é triangular se ele é o produto de três números inteiros consecutivos. Por exemplo, 120 é triangular, pois 4 * 5 * 6 é igual a 120. Dado um número inteiro positivo n, verificar se n é triangular."
   ]
  },
  {
   "cell_type": "code",
   "execution_count": 9,
   "metadata": {},
   "outputs": [
    {
     "name": "stdout",
     "output_type": "stream",
     "text": [
      "115 não é triangular\n"
     ]
    }
   ],
   "source": [
    "n = int(input(\"Digite o valor de n:\"))\n",
    "prod = 1\n",
    "while prod * (prod + 1) * (prod + 2) < n:\n",
    "    prod += 1\n",
    "if prod * (prod + 1) * (prod + 2) == n: \n",
    "    print(n, \"é triangular\")\n",
    "else: \n",
    "    print(n, \"não é triangular\")"
   ]
  },
  {
   "cell_type": "markdown",
   "metadata": {},
   "source": [
    "Problema 4.\\\n",
    "Qualquer número natural de quatro algarismos pode ser dividido em duas dezenas formadas pelos seus dois primeiros e dois últimos dígitos.\n",
    "Imprima todos os milhares cuja raiz seja a soma das dezenas.\n"
   ]
  },
  {
   "cell_type": "code",
   "execution_count": 10,
   "metadata": {},
   "outputs": [
    {
     "name": "stdout",
     "output_type": "stream",
     "text": [
      "2025\n",
      "3025\n",
      "9801\n"
     ]
    }
   ],
   "source": [
    "n = 1000\n",
    "d1 = 0\n",
    "d2 = 0\n",
    "while n <= 9999:\n",
    "    d1 = n % 100\n",
    "    d2 = n // 100\n",
    "    if (d1 + d2) * (d1 + d2) == n:\n",
    "        print(n)\n",
    "    n = n + 1"
   ]
  },
  {
   "cell_type": "markdown",
   "metadata": {},
   "source": [
    "# **Guia de Estudos - Semana 5**\n",
    "**Tópicos abordados** \n",
    "- Indicadores de passagem \n",
    "- Exemplos do uso de operadores // e % (divisão inteira e resto)\n",
    "- Exemplos de operadores lógicos \n",
    "- Laços aninhados (repetições encaixadas)"
   ]
  },
  {
   "cell_type": "markdown",
   "metadata": {},
   "source": [
    "### Indicadores de passagem \n",
    "Atribuição de `True` ou `False` -> utilização de uma variável booleana\n",
    "\n",
    "Exemplo 1: Dados um número inteiro n, n>0, e uma sequência com n números inteiros, verificar se a sequência está em ordem crescente."
   ]
  },
  {
   "cell_type": "code",
   "execution_count": 10,
   "metadata": {},
   "outputs": [
    {
     "name": "stdout",
     "output_type": "stream",
     "text": [
      "A sequência não está em ordem crescente\n"
     ]
    }
   ],
   "source": [
    "n1 = int(input(\"Digite o valor n do tamanho da sequência:\"))\n",
    "cresc = True \n",
    "cont = 1\n",
    "\n",
    "num1 = int(input(\"Digite os valores dos inteiros da sequência:\"))\n",
    "\n",
    "while cont < n1 and cresc == True: \n",
    "    num2 = int(input())\n",
    "    if num1 < num2:\n",
    "        cresc = True \n",
    "        num1 = num2 \n",
    "        cont += 1\n",
    "    else:\n",
    "        cresc = False\n",
    "        print('A sequência não está em ordem crescente')\n",
    "if cresc == True:\n",
    "    print(\"A sequência está em ordem crescente\")\n",
    "    "
   ]
  },
  {
   "cell_type": "markdown",
   "metadata": {},
   "source": [
    "Exemplo 2: Dado um número inteiro n>0, verificar se este número contém dois dígitos adjacentes iguais."
   ]
  },
  {
   "cell_type": "code",
   "execution_count": 47,
   "metadata": {},
   "outputs": [
    {
     "name": "stdout",
     "output_type": "stream",
     "text": [
      "Não contém dígitos adjacentes\n"
     ]
    }
   ],
   "source": [
    "n2 = int(input('Digite o valor de n:'))\n",
    "adj = False \n",
    "nu2 = n2 % 10\n",
    "n2 = n2 // 10\n",
    "\n",
    "while n2 > 0:\n",
    "    r = n2 % 10\n",
    "    if nu2 == r:\n",
    "        adj = True\n",
    "        print('Contém dígitos adjacentes')\n",
    "    nu2 = r\n",
    "    n2 = n2 // 10\n",
    "\n",
    "if adj == False:\n",
    "    print('Não contém dígitos adjacentes')\n"
   ]
  },
  {
   "cell_type": "markdown",
   "metadata": {},
   "source": [
    "### Laços aninhados (repetições encaixadas)\n",
    "Utilizado em conjuntos de dados de duas dimensões, para isso é colocado um while dentro do outro.\n",
    "Iniciar com while externo e depois inserir o while interno.\n",
    "\n",
    "Exemplo 3: Imprima a tabuada dos números de 1 a 10 utilizando repetições encaixadas"
   ]
  },
  {
   "cell_type": "code",
   "execution_count": 56,
   "metadata": {},
   "outputs": [
    {
     "name": "stdout",
     "output_type": "stream",
     "text": [
      "1\t2\t3\t4\t5\t6\t7\t8\t9\t10\t\n",
      "2\t4\t6\t8\t10\t12\t14\t16\t18\t20\t\n",
      "3\t6\t9\t12\t15\t18\t21\t24\t27\t30\t\n",
      "4\t8\t12\t16\t20\t24\t28\t32\t36\t40\t\n",
      "5\t10\t15\t20\t25\t30\t35\t40\t45\t50\t\n",
      "6\t12\t18\t24\t30\t36\t42\t48\t54\t60\t\n",
      "7\t14\t21\t28\t35\t42\t49\t56\t63\t70\t\n",
      "8\t16\t24\t32\t40\t48\t56\t64\t72\t80\t\n",
      "9\t18\t27\t36\t45\t54\t63\t72\t81\t90\t\n",
      "10\t20\t30\t40\t50\t60\t70\t80\t90\t100\t\n"
     ]
    }
   ],
   "source": [
    "# Começar imprimindo as linhas \n",
    "linha = 1 \n",
    "coluna = 1 \n",
    "while linha <= 10:\n",
    "    while coluna <= 10: \n",
    "        print(linha * coluna, end =\"\\t\") #\\t -> deixa espaçamento de um tab\n",
    "        coluna += 1\n",
    "    linha += 1\n",
    "    print()\n",
    "    coluna = 1 "
   ]
  },
  {
   "cell_type": "markdown",
   "metadata": {},
   "source": [
    "Exemplo 4: Fatorial de uma sequência de números\\\n",
    "Programa lê uma sequência de números inteiros não negativos, exibindo para cada número dessa sequência o seu fatorial (n!)"
   ]
  },
  {
   "cell_type": "code",
   "execution_count": 2,
   "metadata": {},
   "outputs": [
    {
     "name": "stdout",
     "output_type": "stream",
     "text": [
      "6\n",
      "24\n",
      "2\n",
      "120\n",
      "1\n"
     ]
    }
   ],
   "source": [
    "seq = 1\n",
    "\n",
    "while seq > 0:\n",
    "    seq = int(input(\"Digite o número da sequência, finalizando com 0:\"))\n",
    "    fat = 1 \n",
    "    while seq > 1:\n",
    "        fat = fat * seq\n",
    "        seq = seq - 1 \n",
    "    print(fat)\n"
   ]
  },
  {
   "cell_type": "code",
   "execution_count": 3,
   "metadata": {},
   "outputs": [
    {
     "name": "stdout",
     "output_type": "stream",
     "text": [
      "9 8 7 6 5 4 3 2 1 \n",
      "8 7 6 5 4 3 2 1 \n",
      "7 6 5 4 3 2 1 \n",
      "6 5 4 3 2 1 \n",
      "5 4 3 2 1 \n",
      "4 3 2 1 \n",
      "3 2 1 \n",
      "2 1 \n",
      "1 \n"
     ]
    }
   ],
   "source": [
    "n = int(input(\"Digite o valor de n:\"))\n",
    "linha = n \n",
    "\n",
    "while linha > 0:\n",
    "    coluna = linha \n",
    "    while coluna > 0:\n",
    "        print(coluna, end = \" \")\n",
    "        coluna -= 1 \n",
    "    print()\n",
    "    linha -= 1\n",
    "    "
   ]
  }
 ],
 "metadata": {
  "kernelspec": {
   "display_name": "Python 3",
   "language": "python",
   "name": "python3"
  },
  "language_info": {
   "codemirror_mode": {
    "name": "ipython",
    "version": 3
   },
   "file_extension": ".py",
   "mimetype": "text/x-python",
   "name": "python",
   "nbconvert_exporter": "python",
   "pygments_lexer": "ipython3",
   "version": "3.11.4"
  }
 },
 "nbformat": 4,
 "nbformat_minor": 2
}
