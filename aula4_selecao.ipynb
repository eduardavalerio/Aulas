{
 "cells": [
  {
   "cell_type": "markdown",
   "metadata": {},
   "source": [
    "# Aula 4 - comandos de seleção \n",
    "- Comandos de seleção: `if` e `if-else`\n",
    "- Operadores aritméticos para números inteiros: `//` e `%`"
   ]
  },
  {
   "cell_type": "markdown",
   "metadata": {},
   "source": [
    "### Comando de seleção simples: `if`\n",
    "if condição:\\\n",
    "comando \n",
    "\n",
    "comando sucessor \n",
    "\n",
    "Se a condição for verdadeira, a sequência de trabalho sempre será comando -> comando sucessor, caso seja falsa, a condição passa diretamente para o comando sucessor."
   ]
  },
  {
   "cell_type": "markdown",
   "metadata": {},
   "source": [
    "### Comando de seleção alternativa: `if-else`\n",
    "if condição:\\\n",
    "comando 1\\\n",
    "else:\\\n",
    "comando 2\n",
    "\n",
    "comando sucessor \n",
    "\n",
    "Se a condição for verdadeira, comando 1 -> comando sucessor, se for falsa, comando 2 -> comando sucessor. \n",
    "\n",
    "***"
   ]
  },
  {
   "cell_type": "markdown",
   "metadata": {},
   "source": [
    "### PROBLEMA 1\n",
    "Dados um número inteiro n, n > 0, e uma sequência com n números inteiros, determinar a soma dos números **pares** da sequência."
   ]
  },
  {
   "cell_type": "code",
   "execution_count": 1,
   "metadata": {},
   "outputs": [
    {
     "name": "stdout",
     "output_type": "stream",
     "text": [
      "A soma dos números pares é 14\n"
     ]
    }
   ],
   "source": [
    "n = int(input(\"Digite o valor de n:\"))\n",
    "soma = 0\n",
    "cont = 0\n",
    "while cont < n:\n",
    "    seq = int(input(\"Entre com um inteiro da sequência:\"))\n",
    "    if seq % 2 == 0:\n",
    "        soma = soma + seq\n",
    "    cont = cont + 1\n",
    "print(\"A soma dos números pares é\", soma)"
   ]
  },
  {
   "cell_type": "markdown",
   "metadata": {},
   "source": [
    "### PROBLEMA 2\n",
    "Dados um número inteiro n, n > 0, e uma sequência com n números inteiros, determinar a soma dos inteiros pares e a soma dos inteiros ímpares da sequência."
   ]
  },
  {
   "cell_type": "code",
   "execution_count": 2,
   "metadata": {},
   "outputs": [
    {
     "name": "stdout",
     "output_type": "stream",
     "text": [
      "A soma dos inteiros pares é 6 e dos inteiros ímpares é 9\n"
     ]
    }
   ],
   "source": [
    "n = int(input(\"Digite um número n:\"))\n",
    "soma_par = 0\n",
    "soma_impar = 0\n",
    "cont = 0\n",
    "while cont < n:\n",
    "    seq = int(input(\"Digite um inteiro da sequência:\"))\n",
    "    if seq % 2 == 0:\n",
    "        soma_par = soma_par + seq\n",
    "    else:\n",
    "        soma_impar = soma_impar + seq\n",
    "    cont = cont + 1\n",
    "print(\"A soma dos inteiros pares é\", soma_par, \"e dos inteiros ímpares é\", soma_impar)"
   ]
  },
  {
   "cell_type": "markdown",
   "metadata": {},
   "source": [
    "### PROBLEMA 3\n",
    "Dados um número inteiro n, n > 0, e uma sequência com n números inteiros, determinar o maior inteiro da sequência."
   ]
  },
  {
   "cell_type": "code",
   "execution_count": 4,
   "metadata": {},
   "outputs": [
    {
     "name": "stdout",
     "output_type": "stream",
     "text": [
      "O maior inteiro é 31\n"
     ]
    }
   ],
   "source": [
    "n = int(input(\"Digite o valor de n:\"))\n",
    "cont = 0\n",
    "maior = 0\n",
    "while cont < n:\n",
    "    seq = int(input(\"Digite um inteiro:\"))\n",
    "    if seq > maior:\n",
    "        maior = seq\n",
    "    cont = cont + 1\n",
    "print(\"O maior inteiro é\", maior)"
   ]
  },
  {
   "cell_type": "markdown",
   "metadata": {},
   "source": [
    "### PROBLEMA 4\n",
    "Dados um número inteiro n, n > 0, e uma sequência com n números inteiros, determinar a soma dos inteiros positivos e a soma dos inteiros negativos da sequência."
   ]
  },
  {
   "cell_type": "code",
   "execution_count": 6,
   "metadata": {},
   "outputs": [
    {
     "name": "stdout",
     "output_type": "stream",
     "text": [
      "A soma dos positivos é 17 e a soma dos negativos é -16\n"
     ]
    }
   ],
   "source": [
    "n = int(input(\"Digite o valor de n:\"))\n",
    "cont = 0\n",
    "positivo = 0\n",
    "negativo = 0\n",
    "while cont < n:\n",
    "    seq = int(input(\"Digite um inteiro:\"))\n",
    "    if seq > 0:\n",
    "        positivo = positivo + seq\n",
    "    else:\n",
    "        negativo = negativo + seq \n",
    "    cont = cont + 1\n",
    "print(\"A soma dos positivos é\", positivo, \"e a soma dos negativos é\", negativo)"
   ]
  }
 ],
 "metadata": {
  "kernelspec": {
   "display_name": "Python 3",
   "language": "python",
   "name": "python3"
  },
  "language_info": {
   "codemirror_mode": {
    "name": "ipython",
    "version": 3
   },
   "file_extension": ".py",
   "mimetype": "text/x-python",
   "name": "python",
   "nbconvert_exporter": "python",
   "pygments_lexer": "ipython3",
   "version": "3.11.4"
  }
 },
 "nbformat": 4,
 "nbformat_minor": 2
}
