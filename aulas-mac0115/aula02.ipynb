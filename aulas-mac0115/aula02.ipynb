{
 "cells": [
  {
   "cell_type": "markdown",
   "metadata": {},
   "source": [
    "## Aula 2 - Introduzindo a linguagem Python primeiros comandos\n"
   ]
  },
  {
   "cell_type": "markdown",
   "metadata": {},
   "source": [
    "### PROBLEMA 1\n",
    "Ler uma sequência de números inteiros, pelo teclado, terminada por um zero, e apresentar na tela o resultado da soma da sequência lida."
   ]
  },
  {
   "cell_type": "code",
   "execution_count": 2,
   "metadata": {},
   "outputs": [
    {
     "name": "stdout",
     "output_type": "stream",
     "text": [
      "A soma dos números é 5\n"
     ]
    }
   ],
   "source": [
    "num = int(input(\"Apresente um número:\"))\n",
    "soma = 0 \n",
    "while num != 0:\n",
    "    soma = soma + num\n",
    "    num = int(input(\"Apresente o próximo número:\"))\n",
    "print(\"A soma dos números é\", soma)"
   ]
  },
  {
   "cell_type": "markdown",
   "metadata": {},
   "source": [
    "### PROBLEMA 2\n",
    "Ler uma sequência de números inteiros, pelo teclado, terminada por um zero, e apresentar na tela o resultado da soma da sequência lida e \n",
    "a quantidade de números somados."
   ]
  },
  {
   "cell_type": "code",
   "execution_count": 3,
   "metadata": {},
   "outputs": [
    {
     "name": "stdout",
     "output_type": "stream",
     "text": [
      "A soma dos números é 50 e a quantidade de números somados foi 5\n"
     ]
    }
   ],
   "source": [
    "num = int(input(\"Apresente um número:\"))\n",
    "soma = 0 \n",
    "cont = 0\n",
    "while num != 0:\n",
    "    soma = soma + num\n",
    "    cont = cont + 1\n",
    "    num = int(input(\"Apresente o próximo número:\"))\n",
    "print(\"A soma dos números é\", soma, \"e a quantidade de números somados foi\", cont)"
   ]
  },
  {
   "cell_type": "markdown",
   "metadata": {},
   "source": [
    "### Problema 3\n",
    "Dados como entrada um número inteiro n, com n > 0, e uma sequência de n números inteiros, escrever um programa em Python que imprima na tela a soma dos n inteiros da sequência."
   ]
  },
  {
   "cell_type": "code",
   "execution_count": 9,
   "metadata": {},
   "outputs": [
    {
     "name": "stdout",
     "output_type": "stream",
     "text": [
      "A soma dos n números é 15\n"
     ]
    }
   ],
   "source": [
    "n = int(input(\"Digite um número inteiro maior que 0 para determinar o tamanho da sequência:\"))\n",
    "soma = 0\n",
    "cont = 0\n",
    "while cont <= n:\n",
    "    soma = soma + cont\n",
    "    cont = cont + 1\n",
    "print(\"A soma dos n números é\", soma)"
   ]
  }
 ],
 "metadata": {
  "kernelspec": {
   "display_name": "Python 3",
   "language": "python",
   "name": "python3"
  },
  "language_info": {
   "codemirror_mode": {
    "name": "ipython",
    "version": 3
   },
   "file_extension": ".py",
   "mimetype": "text/x-python",
   "name": "python",
   "nbconvert_exporter": "python",
   "pygments_lexer": "ipython3",
   "version": "3.11.4"
  }
 },
 "nbformat": 4,
 "nbformat_minor": 2
}
