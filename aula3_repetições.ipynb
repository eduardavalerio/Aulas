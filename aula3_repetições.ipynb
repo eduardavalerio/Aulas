{
 "cells": [
  {
   "cell_type": "markdown",
   "metadata": {},
   "source": [
    "# Aula 3 - Exercícios com repetições em Python (comando while)"
   ]
  },
  {
   "cell_type": "markdown",
   "metadata": {},
   "source": [
    "### PROBLEMA 1\n",
    "Dado um número inteiro n >= 0, calcular n!"
   ]
  },
  {
   "cell_type": "code",
   "execution_count": 6,
   "metadata": {},
   "outputs": [
    {
     "name": "stdout",
     "output_type": "stream",
     "text": [
      "O valor de 4 fatorial é 24\n"
     ]
    }
   ],
   "source": [
    "# Sabemos que n! = 1 * 2 * 3 * ... * n\n",
    "n = int(input(\"Digite o valor de n:\"))\n",
    "fat = 1\n",
    "cont = 1\n",
    "while cont <= n:\n",
    "    fat = fat * cont \n",
    "    cont = cont + 1\n",
    "print(\"O valor de\", n, \"fatorial é\", fat)"
   ]
  },
  {
   "cell_type": "markdown",
   "metadata": {},
   "source": [
    "### PROBLEMA 2\n",
    "Dado um número inteiro n, sendo n > 0, e uma sequência com n números inteiros, escrever um programa que imprima na tela a soma dos inteiros da sequência."
   ]
  },
  {
   "cell_type": "code",
   "execution_count": 8,
   "metadata": {},
   "outputs": [
    {
     "name": "stdout",
     "output_type": "stream",
     "text": [
      "A soma dos inteiros é 15\n"
     ]
    }
   ],
   "source": [
    "n = int(input(\"Digite o valor de n:\"))\n",
    "soma = 0\n",
    "cont = 0\n",
    "while cont < n:\n",
    "    seq = int(input(\"Digite o próximo inteiro:\"))\n",
    "    soma = soma + seq\n",
    "    cont = cont + 1\n",
    "print(\"A soma dos inteiros é\", soma)\n"
   ]
  },
  {
   "cell_type": "markdown",
   "metadata": {},
   "source": [
    "### PROBLEMA 3\n",
    "Dado os inteiro n e k, com k >= 0, determinar n^k. Por exemplo, dados os números 3 e 4, o seu programa deve escrever na tela: 3 elevado a 4 é 81"
   ]
  },
  {
   "cell_type": "code",
   "execution_count": 13,
   "metadata": {},
   "outputs": [
    {
     "name": "stdout",
     "output_type": "stream",
     "text": [
      "10 elevado a 2 é 100\n"
     ]
    }
   ],
   "source": [
    "n = int(input(\"Digite o valor de n:\"))\n",
    "k = int(input(\"Digite o valor de k:\"))\n",
    "pot = 1\n",
    "cont = 0\n",
    "while cont < k:\n",
    "    pot = pot * n\n",
    "    cont = cont + 1 \n",
    "print(n, \"elevado a\", k, \"é\", pot)"
   ]
  }
 ],
 "metadata": {
  "kernelspec": {
   "display_name": "Python 3",
   "language": "python",
   "name": "python3"
  },
  "language_info": {
   "codemirror_mode": {
    "name": "ipython",
    "version": 3
   },
   "file_extension": ".py",
   "mimetype": "text/x-python",
   "name": "python",
   "nbconvert_exporter": "python",
   "pygments_lexer": "ipython3",
   "version": "3.11.4"
  }
 },
 "nbformat": 4,
 "nbformat_minor": 2
}
