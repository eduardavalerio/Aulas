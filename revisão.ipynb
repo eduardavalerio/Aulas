{
 "cells": [
  {
   "cell_type": "markdown",
   "metadata": {},
   "source": [
    "# **Exercícios de revisão para Prova 1**\n",
    "- repetições encaixadas \n",
    "- simulações "
   ]
  },
  {
   "cell_type": "code",
   "execution_count": 12,
   "metadata": {},
   "outputs": [
    {
     "name": "stdout",
     "output_type": "stream",
     "text": [
      "7 6 5 4 3 2 1 \n",
      "6 5 4 3 2 1 \n",
      "5 4 3 2 1 \n",
      "4 3 2 1 \n",
      "3 2 1 \n",
      "2 1 \n",
      "1 \n"
     ]
    }
   ],
   "source": [
    "# Problema de repetições encaixadas \n",
    "# Dado um número inteiro n, imprimir uma pirâmide, sendo que o maior valor da pirâmide é definido pelo usuário.\n",
    "\n",
    "n = int(input(\"Entre com valor de n:\"))\n",
    "num = n \n",
    "while num > 0:\n",
    "    i = num\n",
    "    while i > 0:\n",
    "        print(i, end=\" \")\n",
    "        i = i - 1\n",
    "    print()\n",
    "    num = num - 1\n"
   ]
  },
  {
   "cell_type": "code",
   "execution_count": 11,
   "metadata": {},
   "outputs": [
    {
     "name": "stdout",
     "output_type": "stream",
     "text": [
      "O MDC entre 13 e 5 é 1\n"
     ]
    }
   ],
   "source": [
    "# Dado dois inteiro positivos a e b, determinar o máximo divisor comum entre eles. Por exemplo, MDC (15,9) = 3.\n",
    "\n",
    "a = int(input(\"Entre com valor de a:\"))\n",
    "b = int(input(\"Entre com valor de b:\"))\n",
    "\n",
    "div = a\n",
    "while not (a % div == 0 and b % div == 0):\n",
    "    div = div - 1\n",
    "\n",
    "mdc = div \n",
    "print(\"O MDC entre %d e %d é %d\" %(a, b, mdc))"
   ]
  },
  {
   "cell_type": "code",
   "execution_count": 23,
   "metadata": {},
   "outputs": [
    {
     "name": "stdout",
     "output_type": "stream",
     "text": [
      "O MDC entre da sequência é 2\n"
     ]
    }
   ],
   "source": [
    "# Fazer MDC pra n números \n",
    "\n",
    "n = int(input(\"Entre com valor de n:\")) # toda vez que tem\n",
    "cont = 2\n",
    "mdc = int(input(\"Entre com um inteiro:\"))\n",
    "\n",
    "\n",
    "div = mdc\n",
    "\n",
    "while cont <= n:\n",
    "    num = int(input(\"Entre com o próximo inteiro:\"))\n",
    "    while not(mdc % div == 0 and num % div == 0):\n",
    "        div = div - 1\n",
    "\n",
    "    mdc = div \n",
    "    cont = cont + 1\n",
    "\n",
    "\n",
    "\n",
    "print(\"O MDC entre da sequência é %d\" %(mdc))"
   ]
  },
  {
   "cell_type": "code",
   "execution_count": 28,
   "metadata": {},
   "outputs": [
    {
     "name": "stdout",
     "output_type": "stream",
     "text": [
      "o fator 2 tem multiplicidade 5\n"
     ]
    }
   ],
   "source": [
    "# Dado um número inteiro n, n>1, imprimir sua decomposição em fatores primos, indicando também a mutiplicidade de cada fator.\n",
    "\n",
    "#Exemplo pra um fator dado \n",
    "n = int(input(\"Entre com valor de n:\"))\n",
    "fator = 2\n",
    "\n",
    "while n%fator == 0:\n",
    "    n = n // fator\n",
    "\n",
    "mult = n \n",
    "\n",
    "print(\"o fator %d tem multiplicidade %d\" %(fator, mult))\n"
   ]
  },
  {
   "cell_type": "code",
   "execution_count": 33,
   "metadata": {},
   "outputs": [
    {
     "name": "stdout",
     "output_type": "stream",
     "text": [
      "fator 2 multiplicidade 3\n",
      "fator 3 multiplicidade 1\n",
      "fator 5 multiplicidade 2\n"
     ]
    }
   ],
   "source": [
    "# exemplo até n chegar a 1\n",
    "\n",
    "n = int(input(\"Entre com valor de n:\"))\n",
    "fator = 2\n",
    "\n",
    "while n > 1:\n",
    "    multi = 0\n",
    "    while n%fator == 0:\n",
    "        n = n // fator\n",
    "        multi = multi + 1\n",
    "    if multi != 0:\n",
    "        print(\"fator\", fator, \"multiplicidade\", multi)\n",
    "    fator += 1"
   ]
  }
 ],
 "metadata": {
  "kernelspec": {
   "display_name": "Python 3",
   "language": "python",
   "name": "python3"
  },
  "language_info": {
   "codemirror_mode": {
    "name": "ipython",
    "version": 3
   },
   "file_extension": ".py",
   "mimetype": "text/x-python",
   "name": "python",
   "nbconvert_exporter": "python",
   "pygments_lexer": "ipython3",
   "version": "3.11.4"
  }
 },
 "nbformat": 4,
 "nbformat_minor": 2
}
