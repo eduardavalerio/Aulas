{
 "cells": [
  {
   "cell_type": "markdown",
   "metadata": {},
   "source": [
    "### Aula 10 - repetições encaixadas"
   ]
  },
  {
   "cell_type": "markdown",
   "metadata": {},
   "source": [
    "### PROBLEMA 1\n",
    "Dado um inteiro n, imprimir uma pirâmide semelhante a abaixo, sendo que o maior valor da pirâmide é definido pelo usuário.\n",
    "\n",
    "Para n = 9\\\n",
    "9 8 7 6 5 4 3 2 1\\\n",
    "8 7 6 5 4 3 2 1\\\n",
    "7 6 5 4 3 2 1\\\n",
    "6 5 4 3 2 1\\\n",
    "5 4 3 2 1\\\n",
    "4 3 2 1\\\n",
    "3 2 1\\\n",
    "2 1\\\n",
    "1"
   ]
  },
  {
   "cell_type": "code",
   "execution_count": 7,
   "metadata": {},
   "outputs": [
    {
     "name": "stdout",
     "output_type": "stream",
     "text": [
      " 7  6  5  4  3  2  1 \n",
      " 6  5  4  3  2  1 \n",
      " 5  4  3  2  1 \n",
      " 4  3  2  1 \n",
      " 3  2  1 \n",
      " 2  1 \n",
      " 1 \n"
     ]
    }
   ],
   "source": [
    "n = int(input(\"Entre com valor de n:\"))\n",
    "\n",
    "# laço pra percorrer as linhas \n",
    "linha = n\n",
    "while linha > 0:\n",
    "    col = linha \n",
    "    while col > 0:\n",
    "        print(\"%2d\"%(col), end = \" \") #%2d% formatação -> reserva de dois espaços \n",
    "        col = col - 1\n",
    "    print()\n",
    "    linha = linha - 1 \n"
   ]
  },
  {
   "cell_type": "markdown",
   "metadata": {},
   "source": [
    "### PROBLEMA 2\n",
    "Dados m, m > 0, e m números inteiros positivos, calcular a soma dos que são primos.\n",
    "\n",
    "Para calcular se é primo \n"
   ]
  },
  {
   "cell_type": "code",
   "execution_count": 8,
   "metadata": {},
   "outputs": [
    {
     "data": {
      "text/plain": [
       "'\\nlê n \\nprimo = True (indicador de passagem)\\ndiv = 2\\nwhile div < n and primo = True:\\n    if n % div == 0:\\n        primo = False \\n        div = div + 1\\n    if primo == True:\\n        print(n,\"é primo\")\\n    else:\\n        print(n,\"não é print\")\\n'"
      ]
     },
     "execution_count": 8,
     "metadata": {},
     "output_type": "execute_result"
    }
   ],
   "source": [
    "'''\n",
    "lê n \n",
    "primo = True (indicador de passagem)\n",
    "div = 2\n",
    "while div < n and primo = True:\n",
    "    if n % div == 0:\n",
    "        primo = False \n",
    "        div = div + 1\n",
    "    if primo == True:\n",
    "        print(n,\"é primo\")\n",
    "    else:\n",
    "        print(n,\"não é print\")\n",
    "'''"
   ]
  },
  {
   "cell_type": "code",
   "execution_count": 11,
   "metadata": {},
   "outputs": [
    {
     "name": "stdout",
     "output_type": "stream",
     "text": [
      "A soma dos primos da sequência é 15\n"
     ]
    }
   ],
   "source": [
    "m = int(input(\"Digite o valor de m:\"))\n",
    "soma = 0\n",
    "i = 1\n",
    "\n",
    "while i <= m:\n",
    "    num = int(input(\"Entre com um inteiro:\"))\n",
    "    primo = True \n",
    "    div = 2\n",
    "    if num <= 1:\n",
    "        primo = False \n",
    "    while div < num and primo == True and i <=m:\n",
    "        num = int(input(\"Entre com um inteiro:\"))\n",
    "        if num % div == 0:\n",
    "            primo = False\n",
    "        if primo == True:\n",
    "            soma = soma + num\n",
    "    i = i + 1\n",
    "print(\"A soma dos primos da sequência é\", soma)\n"
   ]
  },
  {
   "cell_type": "markdown",
   "metadata": {},
   "source": [
    "### PROBLEMA 4\n",
    "Dados dois números naturais m e n, determinar, entre todos os pares de números naturais (x,y) tais que "
   ]
  },
  {
   "cell_type": "markdown",
   "metadata": {},
   "source": [
    "### PROBLEMA 5\n",
    "Dados dois inteiros positivos a e b, determinar o máximo divisor comum entre eles. Por exemplo, MDC (15,9) = 3. "
   ]
  }
 ],
 "metadata": {
  "kernelspec": {
   "display_name": "Python 3",
   "language": "python",
   "name": "python3"
  },
  "language_info": {
   "codemirror_mode": {
    "name": "ipython",
    "version": 3
   },
   "file_extension": ".py",
   "mimetype": "text/x-python",
   "name": "python",
   "nbconvert_exporter": "python",
   "pygments_lexer": "ipython3",
   "version": "3.11.4"
  }
 },
 "nbformat": 4,
 "nbformat_minor": 2
}
