{
 "cells": [
  {
   "cell_type": "markdown",
   "metadata": {},
   "source": [
    "### PROBLEMA 1\n",
    "Dado um número inteiro n > 0 e as notas (valores reais) de n alunos de MAC0115, verificar se pelo menos um aluno tirou nota 10. "
   ]
  },
  {
   "cell_type": "code",
   "execution_count": 5,
   "metadata": {},
   "outputs": [
    {
     "name": "stdout",
     "output_type": "stream",
     "text": [
      "Houve pelo menos um aluno que tirou nota 10\n"
     ]
    }
   ],
   "source": [
    "n = int(input(\"Digite a quantidade de alunos:\"))\n",
    "cont_notas = 0\n",
    "cont_10 = 0\n",
    "while cont_notas < n and cont_10 == 0:\n",
    "    nota = float(input(\"Digite a nota do aluno:\"))\n",
    "    if nota == 10:\n",
    "        cont_10 = cont_10 + 1 \n",
    "    cont_notas = cont_notas + 1\n",
    "if cont_10 > 0:\n",
    "    print(\"Houve pelo menos um aluno que tirou nota 10\")\n",
    "else:\n",
    "    print(\"Ninguém tirou nota 10 :(\")"
   ]
  },
  {
   "cell_type": "markdown",
   "metadata": {},
   "source": [
    "### PROBLEMA 2\n",
    "Dado um número inteiro n > 0 e n números inteiros, verificar se a sequência está em ordem crescente.\n"
   ]
  },
  {
   "cell_type": "code",
   "execution_count": 7,
   "metadata": {},
   "outputs": [
    {
     "name": "stdout",
     "output_type": "stream",
     "text": [
      "A sequência não está em ordem crescente\n"
     ]
    }
   ],
   "source": [
    "n = int(input(\" Entre com o n:\"))\n",
    "int_prim = int(input(\"Entre com o primeiro inteiro:\"))\n",
    "cresc = True\n",
    "cont = 0\n",
    "while cont < n and cresc == True:\n",
    "    int_seg = int(input(\"Entre com o próximo inteiro:\"))\n",
    "    if int_prim > int_seg:\n",
    "        cresc = False\n",
    "    int_prim = int_seg\n",
    "    cont = cont + 1\n",
    "if cresc == True:\n",
    "    print(\"A sequência está em ordem crescente\")\n",
    "else: \n",
    "    print(\"A sequência não está em ordem crescente\")\n"
   ]
  },
  {
   "cell_type": "code",
   "execution_count": 10,
   "metadata": {},
   "outputs": [
    {
     "name": "stdout",
     "output_type": "stream",
     "text": [
      "não é primo\n"
     ]
    }
   ],
   "source": [
    "n = int(input(\"Digite o valor de n:\"))\n",
    "primo = True\n",
    "cont = 2\n",
    "while cont < n and primo == True:\n",
    "    if n % cont == 0:\n",
    "        primo = False\n",
    "    cont = cont + 1\n",
    "if primo == True and n != 1:\n",
    "    print(\"é primo\")\n",
    "else:\n",
    "    print(\"não é primo\")"
   ]
  }
 ],
 "metadata": {
  "kernelspec": {
   "display_name": "Python 3",
   "language": "python",
   "name": "python3"
  },
  "language_info": {
   "codemirror_mode": {
    "name": "ipython",
    "version": 3
   },
   "file_extension": ".py",
   "mimetype": "text/x-python",
   "name": "python",
   "nbconvert_exporter": "python",
   "pygments_lexer": "ipython3",
   "version": "3.11.5"
  }
 },
 "nbformat": 4,
 "nbformat_minor": 2
}
