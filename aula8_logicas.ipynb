{
 "cells": [
  {
   "cell_type": "markdown",
   "metadata": {},
   "source": [
    "# Aula 8 - Operadores lógicos \n",
    "- Comandos de seleção encadeados (`elif`)\n",
    "- tipo bool (variável booleana)\n",
    "- operadores lógicos `and`, `or` ou `not`\n",
    "- expressões lógicas "
   ]
  },
  {
   "cell_type": "markdown",
   "metadata": {},
   "source": [
    "### PROBLEMA 1\n",
    "Dados dois inteiros x e y, verificar se x > y, x < y ou x == y. Note que o programa deve imprimir 3 soluções."
   ]
  },
  {
   "cell_type": "code",
   "execution_count": 1,
   "metadata": {},
   "outputs": [
    {
     "name": "stdout",
     "output_type": "stream",
     "text": [
      "y é maior que x\n"
     ]
    }
   ],
   "source": [
    "# Solução 1 - if-else\n",
    "x = int(input(\"Digite o valor de x:\"))\n",
    "y = int(input(\"Digite o valor de y:\"))\n",
    "\n",
    "if x > y:\n",
    "    print(\"x é maior que y\")\n",
    "else:\n",
    "    if y > x:\n",
    "        print(\"y é maior que x\")\n",
    "    else: \n",
    "        print(\"x é igual a y\")\n"
   ]
  },
  {
   "cell_type": "code",
   "execution_count": 4,
   "metadata": {},
   "outputs": [
    {
     "name": "stdout",
     "output_type": "stream",
     "text": [
      "x é igual a y\n"
     ]
    }
   ],
   "source": [
    "# Solução 2 - elif \n",
    "x = int(input(\"Digite o valor de x:\"))\n",
    "y = int(input(\"Digite o valor de y:\"))\n",
    "\n",
    "if x > y:\n",
    "    print(\"x é maior que y\")\n",
    "elif x < y:\n",
    "    print(\"y é maior que x\")\n",
    "else: \n",
    "    print(\"x é igual a y\")"
   ]
  },
  {
   "cell_type": "markdown",
   "metadata": {},
   "source": [
    "### PROBLEMA 2\n",
    "Dados um número inteiro n > 0, e uma sequência de n médias, determinar:\n",
    "- quantos alunos foram aprovados (média >= 5)\n",
    "- quantos alunos ficaram de recuperação (3 =< média < 5)\n",
    "- quantos alunos foram reprovados (média < 3)\n",
    "- quantos alunos tiveram desempenho excelente (média >= 8)"
   ]
  },
  {
   "cell_type": "code",
   "execution_count": 8,
   "metadata": {},
   "outputs": [
    {
     "name": "stdout",
     "output_type": "stream",
     "text": [
      "O número de alunos aprovados foram 2\n",
      "Os alunos com média acima de 8 foram 1\n",
      "Os alunos que ficaram de recuperação 2\n",
      "Os alunos que foram reprovados 1\n"
     ]
    }
   ],
   "source": [
    "# Solução 1 - if-else\n",
    "n = float(input(\"Entre com valor de n:\"))\n",
    "cont = 0\n",
    "n_aprovados = 0\n",
    "n_reprovados = 0\n",
    "n_recuperacao = 0\n",
    "n_excelentes = 0\n",
    "while cont < n:\n",
    "    media = float(input(\"Entre com os valores da média:\"))\n",
    "    cont = cont + 1\n",
    "    if media >= 5:\n",
    "        n_aprovados = n_aprovados + 1\n",
    "        if media >= 8:\n",
    "            n_excelentes = n_excelentes + 1\n",
    "    else:\n",
    "        if media >= 3:\n",
    "            n_recuperacao = n_recuperacao + 1\n",
    "        else:\n",
    "            n_reprovados = n_reprovados + 1\n",
    "print(\"O número de alunos aprovados foram\", n_aprovados)\n",
    "print(\"Os alunos com média acima de 8 foram\", n_excelentes)\n",
    "print(\"Os alunos que ficaram de recuperação\", n_recuperacao)\n",
    "print(\"Os alunos que foram reprovados\", n_reprovados)"
   ]
  },
  {
   "cell_type": "markdown",
   "metadata": {},
   "source": [
    "### Operadores lógicos \n",
    "3 operadores lógicos que fazem operações com valores booleanos (True e False)\\\n",
    "`and` -> função lógica E\\\n",
    "`or` -> função lógica OU\\\n",
    "`not` -> função lógica de negação\n",
    "\n",
    "***"
   ]
  },
  {
   "cell_type": "markdown",
   "metadata": {},
   "source": [
    "### PROBLEMA 5\n",
    "Escreva um programa que determina a data cronologicamente maior entre duas datas fornecidas pelo usuário. Cada data é fornecida por três números inteiros; o primeiro representa o dia, o segundo o mês e o terceiro o ano. "
   ]
  },
  {
   "cell_type": "code",
   "execution_count": 8,
   "metadata": {},
   "outputs": [
    {
     "name": "stdout",
     "output_type": "stream",
     "text": [
      "As duas datas são iguais\n"
     ]
    }
   ],
   "source": [
    "dia1 = int(input(\"Data do dia 1:\"))\n",
    "mes1 = int(input(\"mês 1:\"))\n",
    "ano1 = int(input(\"ano 1:\"))\n",
    "dia2 = int(input(\"Data do dia 2:\"))\n",
    "mes2 = int(input(\"mês 2:\"))\n",
    "ano2 = int(input(\"ano 2:\"))\n",
    "\n",
    "if ano1 > ano2:\n",
    "    print(\"A maior data é\", dia1, \"do\", mes1, \"de\", ano1)\n",
    "else:\n",
    "    if ano2 > ano1:\n",
    "        print(\"A maior data é\", dia2, \"do\", mes2, \"de\", ano2)\n",
    "    else: \n",
    "        if mes1 > mes2:\n",
    "            print(\"A maior data é\", dia1, \"do\", mes1, \"de\", ano1)\n",
    "        else: \n",
    "            if mes2 > mes1:\n",
    "                print(\"A maior data é\", dia2, \"do\", mes2, \"de\", ano2)\n",
    "            else: \n",
    "                if dia1 > dia2:\n",
    "                    print(\"A maior data é\", dia1, \"do\", mes1, \"de\", ano1)\n",
    "                else:\n",
    "                    if dia2 > dia1:\n",
    "                        print(\"A maior data é\", dia2, \"do\", mes2, \"de\", ano2)\n",
    "                    else:\n",
    "                        print(\"As duas datas são iguais\")        "
   ]
  },
  {
   "cell_type": "code",
   "execution_count": 12,
   "metadata": {},
   "outputs": [
    {
     "name": "stdout",
     "output_type": "stream",
     "text": [
      "As duas datas são iguais\n"
     ]
    }
   ],
   "source": [
    "dia1 = int(input(\"Data do dia 1:\"))\n",
    "mes1 = int(input(\"mês 1:\"))\n",
    "ano1 = int(input(\"ano 1:\"))\n",
    "dia2 = int(input(\"Data do dia 2:\"))\n",
    "mes2 = int(input(\"mês 2:\"))\n",
    "ano2 = int(input(\"ano 2:\"))\n",
    "\n",
    "if ano1 > ano2:\n",
    "    print(\"A maior data é\", dia1, \"do\", mes1, \"de\", ano1)\n",
    "elif ano2 > ano1:\n",
    "    print(\"A maior data é\", dia2, \"do\", mes2, \"de\", ano2)\n",
    "elif mes1 > mes2:\n",
    "    print(\"A maior data é\", dia1, \"do\", mes1, \"de\", ano1)\n",
    "elif mes2 > mes1:\n",
    "    print(\"A maior data é\", dia2, \"do\", mes2, \"de\", ano2)\n",
    "elif dia1 > dia2:\n",
    "    print(\"A maior data é\", dia1, \"do\", mes1, \"de\", ano1)\n",
    "elif dia2 > dia1:\n",
    "    print(\"A maior data é\", dia2, \"do\", mes2, \"de\", ano2)\n",
    "else:\n",
    "    print(\"As duas datas são iguais\")"
   ]
  },
  {
   "cell_type": "code",
   "execution_count": 17,
   "metadata": {},
   "outputs": [
    {
     "name": "stdout",
     "output_type": "stream",
     "text": [
      "A maior data é 19 do 2 de 2004\n"
     ]
    }
   ],
   "source": [
    "# Utilizando operadores lógicos \n",
    "\n",
    "dia1 = int(input(\"Data do dia 1:\"))\n",
    "mes1 = int(input(\"mês 1:\"))\n",
    "ano1 = int(input(\"ano 1:\"))\n",
    "dia2 = int(input(\"Data do dia 2:\"))\n",
    "mes2 = int(input(\"mês 2:\"))\n",
    "ano2 = int(input(\"ano 2:\"))\n",
    "\n",
    "if ano1 > ano2 or ano1 == ano2 and mes1 > mes2 or ano1 == ano2 and mes1 == mes2 and dia1 > dia2:\n",
    "    print(\"A maior data é\", dia1, \"do\", mes1, \"de\", ano1)\n",
    "elif ano1 == ano2 and mes1 == mes2 and dia1 == dia2:\n",
    "    print(\"As duas datas são iguais\")\n",
    "else:\n",
    "    print(\"A maior data é\", dia2, \"do\", mes2, \"de\", ano2)"
   ]
  },
  {
   "cell_type": "markdown",
   "metadata": {},
   "source": [
    "### PROBLEMA 6\n",
    "Dados dois números quaisquer correspondentes às coordenadas se um ponto no plano cartesiano, verifique se o ponto pertence à região delimitada pelos vértices: (-1,-1); (1,1); (-1,1);(1,-1)."
   ]
  },
  {
   "cell_type": "code",
   "execution_count": 22,
   "metadata": {},
   "outputs": [
    {
     "name": "stdout",
     "output_type": "stream",
     "text": [
      "O ponto esta na região delimitada\n"
     ]
    }
   ],
   "source": [
    "# coordenadas \n",
    "x = float(input(\"Entre com valor da coordenada x:\"))\n",
    "y = float(input(\"Entre com valor da coordenada y:\"))\n",
    "\n",
    "if x >= -1 and x <= 1 and y >= -1 and y <= 1:\n",
    "    print(\"O ponto esta na região delimitada\")\n",
    "else:\n",
    "    print(\"O ponto não está na região delimitada\")"
   ]
  }
 ],
 "metadata": {
  "kernelspec": {
   "display_name": "Python 3",
   "language": "python",
   "name": "python3"
  },
  "language_info": {
   "codemirror_mode": {
    "name": "ipython",
    "version": 3
   },
   "file_extension": ".py",
   "mimetype": "text/x-python",
   "name": "python",
   "nbconvert_exporter": "python",
   "pygments_lexer": "ipython3",
   "version": "3.11.4"
  }
 },
 "nbformat": 4,
 "nbformat_minor": 2
}
